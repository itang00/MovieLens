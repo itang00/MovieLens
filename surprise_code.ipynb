{
 "cells": [
  {
   "cell_type": "markdown",
   "metadata": {
    "colab_type": "text",
    "id": "iSHH_NO_K4zZ"
   },
   "source": [
    "# MiniProject 2"
   ]
  },
  {
   "cell_type": "code",
   "execution_count": 0,
   "metadata": {
    "colab": {},
    "colab_type": "code",
    "id": "ZQPdAbRVNS4h"
   },
   "outputs": [],
   "source": [
    "import numpy as np\n",
    "import matplotlib.pyplot as plt\n",
    "import pandas as pd\n",
    "from sklearn.decomposition import NMF\n",
    "from surprise import SVD, Dataset, Reader, accuracy\n",
    "from surprise.model_selection import PredefinedKFold, GridSearchCV"
   ]
  },
  {
   "cell_type": "code",
   "execution_count": 0,
   "metadata": {
    "colab": {},
    "colab_type": "code",
    "id": "csPmWvBSNUWM"
   },
   "outputs": [],
   "source": [
    "!pip install surprise"
   ]
  },
  {
   "cell_type": "markdown",
   "metadata": {
    "colab_type": "text",
    "id": "d6rcCRtNah3I"
   },
   "source": [
    "Clean up the data with Pandas"
   ]
  },
  {
   "cell_type": "code",
   "execution_count": 43,
   "metadata": {
    "colab": {
     "base_uri": "https://localhost:8080/",
     "height": 419
    },
    "colab_type": "code",
    "id": "74gBBVyIajcF",
    "outputId": "0ec0e9ee-435a-45b1-8632-a3bae47f3bad"
   },
   "outputs": [
    {
     "data": {
      "text/html": [
       "<div>\n",
       "<style scoped>\n",
       "    .dataframe tbody tr th:only-of-type {\n",
       "        vertical-align: middle;\n",
       "    }\n",
       "\n",
       "    .dataframe tbody tr th {\n",
       "        vertical-align: top;\n",
       "    }\n",
       "\n",
       "    .dataframe thead th {\n",
       "        text-align: right;\n",
       "    }\n",
       "</style>\n",
       "<table border=\"1\" class=\"dataframe\">\n",
       "  <thead>\n",
       "    <tr style=\"text-align: right;\">\n",
       "      <th></th>\n",
       "      <th>user</th>\n",
       "      <th>item</th>\n",
       "      <th>rating</th>\n",
       "    </tr>\n",
       "  </thead>\n",
       "  <tbody>\n",
       "    <tr>\n",
       "      <th>0</th>\n",
       "      <td>707</td>\n",
       "      <td>766</td>\n",
       "      <td>3</td>\n",
       "    </tr>\n",
       "    <tr>\n",
       "      <th>1</th>\n",
       "      <td>943</td>\n",
       "      <td>188</td>\n",
       "      <td>4</td>\n",
       "    </tr>\n",
       "    <tr>\n",
       "      <th>2</th>\n",
       "      <td>772</td>\n",
       "      <td>313</td>\n",
       "      <td>5</td>\n",
       "    </tr>\n",
       "    <tr>\n",
       "      <th>3</th>\n",
       "      <td>828</td>\n",
       "      <td>26</td>\n",
       "      <td>3</td>\n",
       "    </tr>\n",
       "    <tr>\n",
       "      <th>4</th>\n",
       "      <td>854</td>\n",
       "      <td>514</td>\n",
       "      <td>4</td>\n",
       "    </tr>\n",
       "    <tr>\n",
       "      <th>...</th>\n",
       "      <td>...</td>\n",
       "      <td>...</td>\n",
       "      <td>...</td>\n",
       "    </tr>\n",
       "    <tr>\n",
       "      <th>9995</th>\n",
       "      <td>13</td>\n",
       "      <td>858</td>\n",
       "      <td>1</td>\n",
       "    </tr>\n",
       "    <tr>\n",
       "      <th>9996</th>\n",
       "      <td>7</td>\n",
       "      <td>79</td>\n",
       "      <td>4</td>\n",
       "    </tr>\n",
       "    <tr>\n",
       "      <th>9997</th>\n",
       "      <td>588</td>\n",
       "      <td>1058</td>\n",
       "      <td>2</td>\n",
       "    </tr>\n",
       "    <tr>\n",
       "      <th>9998</th>\n",
       "      <td>916</td>\n",
       "      <td>727</td>\n",
       "      <td>4</td>\n",
       "    </tr>\n",
       "    <tr>\n",
       "      <th>9999</th>\n",
       "      <td>833</td>\n",
       "      <td>118</td>\n",
       "      <td>2</td>\n",
       "    </tr>\n",
       "  </tbody>\n",
       "</table>\n",
       "<p>9986 rows × 3 columns</p>\n",
       "</div>"
      ],
      "text/plain": [
       "      user  item  rating\n",
       "0      707   766       3\n",
       "1      943   188       4\n",
       "2      772   313       5\n",
       "3      828    26       3\n",
       "4      854   514       4\n",
       "...    ...   ...     ...\n",
       "9995    13   858       1\n",
       "9996     7    79       4\n",
       "9997   588  1058       2\n",
       "9998   916   727       4\n",
       "9999   833   118       2\n",
       "\n",
       "[9986 rows x 3 columns]"
      ]
     },
     "execution_count": 43,
     "metadata": {
      "tags": []
     },
     "output_type": "execute_result"
    }
   ],
   "source": [
    "data = pd.read_csv('./data.txt', delimiter=\"\\t\", header=None)\n",
    "data.columns = ('user', 'item', 'rating')\n",
    "train = pd.read_csv('./train.txt', delimiter=\"\\t\", header=None)\n",
    "train.columns = ('user', 'item', 'rating')\n",
    "test = pd.read_csv('./test.txt', delimiter=\"\\t\", header=None)\n",
    "test.columns = ('user', 'item', 'rating')\n",
    "dropped = []\n",
    "for i in range(data['item'].max()):\n",
    "    if (i + 1) not in train['item'].values:\n",
    "        dropped.append(i)\n",
    "for index in dropped:\n",
    "    test = test.drop(data.index[index])\n",
    "test"
   ]
  },
  {
   "cell_type": "markdown",
   "metadata": {
    "colab_type": "text",
    "id": "hORnbodWLDJN"
   },
   "source": [
    "Optimize parameters for Surprise SVD"
   ]
  },
  {
   "cell_type": "code",
   "execution_count": 38,
   "metadata": {
    "colab": {
     "base_uri": "https://localhost:8080/",
     "height": 603
    },
    "colab_type": "code",
    "id": "b8PfcYSLARsh",
    "outputId": "d3a99a11-2f4c-4361-f251-e7f022de8cdd"
   },
   "outputs": [
    {
     "name": "stdout",
     "output_type": "stream",
     "text": [
      "MSE: 0.8843\n",
      "MSE: 0.8840\n",
      "MSE: 0.8840\n",
      "MSE: 0.8829\n",
      "MSE: 0.8852\n",
      "MSE: 0.8869\n",
      "MSE: 0.8854\n",
      "MSE: 0.8850\n",
      "MSE: 0.8844\n",
      "MSE: 0.8845\n",
      "MSE: 0.8855\n",
      "MSE: 0.8880\n",
      "MSE: 0.8839\n",
      "MSE: 0.8837\n",
      "MSE: 0.8856\n",
      "MSE: 0.8849\n",
      "MSE: 0.8856\n",
      "MSE: 0.8870\n"
     ]
    },
    {
     "data": {
      "image/png": "[encoded data removed]",
      "text/plain": [
       "<Figure size 432x288 with 1 Axes>"
      ]
     },
     "metadata": {
      "tags": []
     },
     "output_type": "display_data"
    }
   ],
   "source": [
    "K = 20\n",
    "n_epochs = 50\n",
    "lrs = [0.001, 0.01, 0.1]\n",
    "regs = [0.0, 0.02, 0.04, 0.06, 0.07, 0.1]\n",
    "E_outs = [[], [], [], []]\n",
    "\n",
    "# Load train and test sets from dataframe\n",
    "reader = Reader(rating_scale=(1, 5))\n",
    "train_data = Dataset.load_from_df(train[['user', 'item', 'rating']], reader).build_full_trainset()\n",
    "test_data = Dataset.load_from_df(test[['user', 'item', 'rating']], reader).build_full_trainset().build_testset()\n",
    "\n",
    "# Fit and score data\n",
    "for i in range(len(lrs)):\n",
    "    for reg in regs:\n",
    "        algo = SVD(n_factors=K, n_epochs=n_epochs, lr_all=lr, reg_all=reg)\n",
    "        algo.fit(train_data)\n",
    "        predictions = algo.test(test_data)\n",
    "        # U = algo.pu\n",
    "        # V = algo.qi\n",
    "        # print(U.shape)\n",
    "        # print(V.shape)\n",
    "        E_outs[i].append(float(accuracy.mse(predictions)))\n",
    "  \n",
    "# Plot values of E_out across lambda for each value of lr\n",
    "for i in range(len(lrs)):\n",
    "    plt.plot(regs, E_outs[i], label='$E_{out}, lr=$'+str(lrs[i]))\n",
    "plt.title('$E_{out}$ vs. \\lambda')\n",
    "plt.xlabel('\\lambda')\n",
    "plt.ylabel('Error')\n",
    "plt.legend()\t\n",
    "plt.savefig('2mini_eout.png')\t\t"
   ]
  },
  {
   "cell_type": "markdown",
   "metadata": {
    "colab_type": "text",
    "id": "IzWkLN3ZTMRG"
   },
   "source": [
    "Use Surprise SVD to estimate U and V "
   ]
  },
  {
   "cell_type": "code",
   "execution_count": 57,
   "metadata": {
    "colab": {
     "base_uri": "https://localhost:8080/",
     "height": 51
    },
    "colab_type": "code",
    "id": "4P2yAVJMSp8_",
    "outputId": "710161a7-8766-44a1-e4f5-0059d005adf8"
   },
   "outputs": [
    {
     "name": "stdout",
     "output_type": "stream",
     "text": [
      "(20, 943)\n",
      "(20, 1682)\n"
     ]
    }
   ],
   "source": [
    "K = 20\n",
    "n_epochs = 50\n",
    "lr = 0.001\n",
    "reg = 0.06\n",
    "\n",
    "# Load train and test sets from dataframe\n",
    "reader = Reader(rating_scale=(1, 5))\n",
    "train_data = Dataset.load_from_df(data[['user', 'item', 'rating']], reader).build_full_trainset()\n",
    "\n",
    "# Fit the data to obtain U and V\n",
    "algo = SVD(n_factors=K, n_epochs=n_epochs, lr_all=lr, reg_all=reg)\n",
    "algo.fit(train_data)\n",
    "U = np.transpose(algo.pu)\n",
    "V = np.transpose(algo.qi)\n",
    "\n",
    "print(U.shape)\n",
    "print(V.shape)"
   ]
  },
  {
   "cell_type": "markdown",
   "metadata": {
    "colab_type": "text",
    "id": "qUHrUiikTrPo"
   },
   "source": [
    "Use np.linalg.SVD to decompose V and project U and V into 2-D space"
   ]
  },
  {
   "cell_type": "code",
   "execution_count": 62,
   "metadata": {
    "colab": {
     "base_uri": "https://localhost:8080/",
     "height": 85
    },
    "colab_type": "code",
    "id": "YQ-OJ4bUTu7r",
    "outputId": "bba4ca76-c950-46f2-f01e-170f74553d4f"
   },
   "outputs": [
    {
     "name": "stdout",
     "output_type": "stream",
     "text": [
      "[[-0.1306871   0.05539973  0.05833426 ... -0.05046679  0.01928438\n",
      "  -0.11930413]\n",
      " [ 0.17255596  0.03338293 -0.03843089 ... -0.09933857 -0.01022579\n",
      "  -0.05105668]]\n"
     ]
    }
   ],
   "source": [
    "A, S, B = np.linalg.svd(V)\n",
    "\n",
    "U_proj = np.matmul(np.transpose(A[:,:2]), U)\n",
    "V_proj = np.matmul(np.transpose(A[:,:2]), V)\n",
    "\n",
    "print(V_proj)"
   ]
  },
  {
   "cell_type": "markdown",
   "metadata": {
    "colab_type": "text",
    "id": "IbpzzdXUYDgk"
   },
   "source": [
    "Output V_proj as a csv to visualize"
   ]
  },
  {
   "cell_type": "code",
   "execution_count": 0,
   "metadata": {
    "colab": {},
    "colab_type": "code",
    "id": "UHZqAf-wYCu3"
   },
   "outputs": [],
   "source": [
    "output = pd.DataFrame({'Column1': V_proj[0,:], 'Column2': V_proj[1,:]})\n",
    "output\n",
    "output.to_csv('surprise.csv', index=False)"
   ]
  }
 ],
 "metadata": {
  "accelerator": "GPU",
  "colab": {
   "name": "mini2.ipynb",
   "provenance": []
  },
  "kernelspec": {
   "display_name": "Python 3",
   "language": "python",
   "name": "python3"
  },
  "language_info": {
   "codemirror_mode": {
    "name": "ipython",
    "version": 3
   },
   "file_extension": ".py",
   "mimetype": "text/x-python",
   "name": "python",
   "nbconvert_exporter": "python",
   "pygments_lexer": "ipython3",
   "version": "3.8.1"
  }
 },
 "nbformat": 4,
 "nbformat_minor": 1
}
