{
 "cells": [
  {
   "cell_type": "markdown",
   "metadata": {},
   "source": [
    "# Factorization Method 2\n",
    "Adapted from Homework 5 problem 2.\n",
    "Implements\n",
    "$$\\text{arg min}_{U,V,A,B}\\frac\\lambda2\\left(||U||^2+||V||^2+|A|^2+|B|^2\\right)-\\frac1{2N}\\sum_{(i,j)\\in S}\\big(Y_{ij}-(U_i\\cdot V_i-A_i-B_i)\\big)^2$$"
   ]
  },
  {
   "cell_type": "code",
   "execution_count": 1,
   "metadata": {},
   "outputs": [],
   "source": [
    "import numpy as np\n",
    "import matplotlib.pyplot as plt\n",
    "from sys import stdout\n",
    "\n",
    "def point_loss(Yij, Ui, Vj, Ai, Bj):\n",
    "    return (Yij-np.dot(Ui,Vj)-Ai-Bj)\n",
    "\n",
    "def grad_U(Yij, Ui, Vj, Ai, Bj, reg):\n",
    "    return reg*Ui-point_loss(Yij,Ui,Vj,Ai,Bj)*Vj\n",
    "\n",
    "def grad_V(Yij, Ui, Vj, Ai, Bj, reg):\n",
    "    return reg*Vj-point_loss(Yij,Ui,Vj,Ai,Bj)*Ui\n",
    "\n",
    "def grad_A(Yij, Ui, Vj, Ai, Bj, reg):\n",
    "    return reg*Ai-point_loss(Yij,Ui,Vj,Ai,Bj)\n",
    "\n",
    "def grad_B(Yij, Ui, Vj, Ai, Bj, reg):\n",
    "    return reg*Bj-point_loss(Yij,Ui,Vj,Ai,Bj)\n",
    "\n",
    "def get_err(U, V, A, B, Y, reg=0.0):\n",
    "    n2 = lambda X: np.linalg.norm(X)**2.0\n",
    "    err = reg*(n2(U)+n2(V)+n2(A)+n2(B))\n",
    "    for (i, j, Yij) in Y:\n",
    "        err += point_loss(Yij, U[i-1,:], V[j-1,:], A[i-1], B[j-1])**2.0\n",
    "    return err/2.0/np.size(Y,0)\n",
    "\n",
    "def train_model(M, N, K, Y, Yval, eta, reg, eps=0.0001, max_epochs=300):\n",
    "    U = np.random.rand(M,K)-0.5\n",
    "    V = np.random.rand(N,K)-0.5\n",
    "    A = np.random.rand(M)-0.5\n",
    "    B = np.random.rand(N)-0.5\n",
    "    \n",
    "    last_loss = get_err(U, V, A, B, Y, reg)\n",
    "    e1diff = None\n",
    "    \n",
    "    eins = []\n",
    "    evals = []\n",
    "    eins.append(get_err(U, V, A, B, Y))\n",
    "    evals.append(get_err(U, V, A, B, Yval))\n",
    "    \n",
    "    for e in range(max_epochs):\n",
    "        for k in np.random.permutation(np.size(Y,0)):\n",
    "            i, j, Yij = Y[k,:]\n",
    "            i -= 1\n",
    "            j -= 1\n",
    "            U[i,:] -= eta*grad_U(Yij, U[i,:], V[j,:], A[i], B[j], reg)\n",
    "            V[j,:] -= eta*grad_V(Yij, U[i,:], V[j,:], A[i], B[j], reg)\n",
    "            A[i]   -= eta*grad_A(Yij, U[i,:], V[j,:], A[i], B[j], reg)\n",
    "            B[j]   -= eta*grad_B(Yij, U[i,:], V[j,:], A[i], B[j], reg)\n",
    "            \n",
    "        eins.append(get_err(U, V, A, B, Y))\n",
    "        evals.append(get_err(U, V, A, B, Yval))\n",
    "            \n",
    "        loss = get_err(U, V, A, B, Y, reg)\n",
    "        diff = np.abs(loss-last_loss)\n",
    "        if e == 0:\n",
    "            e1diff = diff\n",
    "        elif diff < eps*e1diff:\n",
    "            break\n",
    "        last_loss = loss\n",
    "        \n",
    "        stdout.write(f'\\r(reg={reg}, K={K}) Epoch {e+1} finished.')\n",
    "        \n",
    "    stdout.write('\\n')\n",
    "    return U, V, A, B, eins, evals"
   ]
  },
  {
   "cell_type": "markdown",
   "metadata": {},
   "source": [
    "Now, we load the data and subtract the mean from it (notice that above we assume $\\mu=0$)."
   ]
  },
  {
   "cell_type": "code",
   "execution_count": 5,
   "metadata": {},
   "outputs": [],
   "source": [
    "Y_train = np.loadtxt('./data/train.txt').astype(int)\n",
    "Y_test = np.loadtxt('./data/test.txt').astype(int)\n",
    "Y_all = np.loadtxt('./data/data.txt').astype(int)\n",
    "\n",
    "mu = np.mean(Y_train[:,2])\n",
    "Y_train[:,2] = Y_train[:,2].astype('float64')-mu\n",
    "Y_test[:,2] = Y_test[:,2].astype('float64')-mu\n",
    "Y_all[:,2] = Y_all[:,2].astype('float64')-np.mean(Y_all[:,2])\n",
    "\n",
    "M = max(max(Y_train[:,0]), max(Y_test[:,0])).astype(int) # users\n",
    "N = max(max(Y_train[:,1]), max(Y_test[:,1])).astype(int) # movies\n",
    "K = 20\n",
    "eta = 0.03 # learning rate"
   ]
  },
  {
   "cell_type": "markdown",
   "metadata": {},
   "source": [
    "Test different regularization strengths, and plot the results."
   ]
  },
  {
   "cell_type": "code",
   "execution_count": 18,
   "metadata": {},
   "outputs": [
    {
     "name": "stdout",
     "output_type": "stream",
     "text": [
      "(reg=0.001, K=20) Epoch 52 finished.\n",
      "(reg=0.01, K=20) Epoch 66 finished.\n",
      "(reg=0.05, K=20) Epoch 65 finished.\n",
      "(reg=0.1, K=20) Epoch 49 finished.\n",
      "(reg=0.5, K=20) Epoch 6 finished.\n"
     ]
    }
   ],
   "source": [
    "regs = [1e-3, 1e-2, 5e-2, 1e-1, 5e-1]\n",
    "\n",
    "E_ins = []\n",
    "E_outs = []\n",
    "\n",
    "# Use to compute Ein and Eout\n",
    "for reg in regs:\n",
    "    U, V, A, B, eins, evals = train_model(M, N, K, Y_train, Y_test, eta, reg)\n",
    "    E_ins.append(eins[-1])\n",
    "    E_outs.append(eouts[-1])"
   ]
  },
  {
   "cell_type": "code",
   "execution_count": 24,
   "metadata": {},
   "outputs": [
    {
     "data": {
      "image/png": "[encoded data removed]",
      "text/plain": [
       "<Figure size 432x288 with 1 Axes>"
      ]
     },
     "metadata": {
      "needs_background": "light"
     },
     "output_type": "display_data"
    }
   ],
   "source": [
    "fig = plt.figure()\n",
    "ax = fig.add_subplot(111)\n",
    "plt.plot(regs, E_ins, label='$E_{in}$')\n",
    "plt.plot(regs, E_outs, label='$E_{out}$')\n",
    "plt.title('Error vs Regularization Strength')\n",
    "plt.xlabel('$\\lambda$')\n",
    "plt.ylabel('Error')\n",
    "plt.legend()\n",
    "ax.set_xscale('log')"
   ]
  },
  {
   "cell_type": "markdown",
   "metadata": {},
   "source": [
    "We see that the best regularization strength is 0.1. Now, we will check for overfitting by plotting $E_\\text{in}$ and $E_\\text{out}$ over time for $\\lambda=0.1$."
   ]
  },
  {
   "cell_type": "code",
   "execution_count": 8,
   "metadata": {},
   "outputs": [
    {
     "name": "stdout",
     "output_type": "stream",
     "text": [
      "(reg=0.1, K=20) Epoch 83 finished.\n"
     ]
    }
   ],
   "source": [
    "U, V, A, B, eins, evals = train_model(M, N, K, Y_train, Y_test, eta, 0.1)"
   ]
  },
  {
   "cell_type": "code",
   "execution_count": 10,
   "metadata": {},
   "outputs": [
    {
     "data": {
      "text/plain": [
       "<matplotlib.legend.Legend at 0x7f7e71971910>"
      ]
     },
     "execution_count": 10,
     "metadata": {},
     "output_type": "execute_result"
    },
    {
     "data": {
      "image/png": "[encoded data removed]",
      "text/plain": [
       "<Figure size 432x288 with 1 Axes>"
      ]
     },
     "metadata": {
      "needs_background": "light"
     },
     "output_type": "display_data"
    }
   ],
   "source": [
    "T = len(eins)\n",
    "plt.figure()\n",
    "plt.plot(range(T), eins, label='$E_{in}$')\n",
    "plt.plot(range(T), evals, label='$E_{out}$')\n",
    "plt.title('Error vs Epoch')\n",
    "plt.xlabel('epoch')\n",
    "plt.ylabel('error')\n",
    "plt.legend()"
   ]
  },
  {
   "cell_type": "markdown",
   "metadata": {},
   "source": [
    "This encouraging, as it indicates that there isn't a point where Eout starts decreasing (i.e., the final epoch is essentially the best). Finally, decompose the full dataset:"
   ]
  },
  {
   "cell_type": "code",
   "execution_count": 6,
   "metadata": {},
   "outputs": [
    {
     "name": "stdout",
     "output_type": "stream",
     "text": [
      "(reg=0.1, K=20) Epoch 54 finished.\n"
     ]
    }
   ],
   "source": [
    "U, V, A, B, eins, evals = train_model(M, N, K, Y_all, Y_all, eta, 0.1)"
   ]
  },
  {
   "cell_type": "markdown",
   "metadata": {},
   "source": [
    "And now save the final 2 components to a file so that we can visualize it in R."
   ]
  },
  {
   "cell_type": "code",
   "execution_count": 11,
   "metadata": {},
   "outputs": [],
   "source": [
    "import pandas as pd\n",
    "\n",
    "movie_data = pd.read_csv('data/movies.txt', sep='\\t',\n",
    "                         names=['title', 'action', 'adventure', 'animation', 'childrens', 'comedy', 'crime', 'documentary',\n",
    "                                  'drama', 'fantasy', 'film_noir', 'horror', 'musical', 'mystery', 'romance', 'sci_fi', 'thriller',\n",
    "                                  'war', 'wester'])\n",
    "\n",
    "svdA, svdS, svdB = np.linalg.svd(V.transpose())\n",
    "U2 = svdA[:,:2].transpose() @ U.transpose()\n",
    "V2 = svdA[:,:2].transpose() @ V.transpose()\n",
    "\n",
    "vis_df = pd.DataFrame({\n",
    "    'id' : range(1, V2.shape[1]+1),\n",
    "    'x1' : V2[0,:],\n",
    "    'x2' : V2[1,:]\n",
    "})\n",
    "\n",
    "vis_df.to_csv('movies-2d.csv', index=False)"
   ]
  },
  {
   "cell_type": "markdown",
   "metadata": {},
   "source": [
    "# Factorization Method 1\n",
    "Adapted from Homework 5 problem 2.\n",
    "Implements\n",
    "$$\\text{arg min}_{U,V}\\frac\\lambda2\\left(||U||^2+||V||^2\\right)-\\frac1{2N}\\sum_{(i,j)\\in S}\\big(Y_{ij}-(U_i\\cdot V_i)\\big)^2$$\n",
    "The process (i.e., finding the optimal $\\lambda$ and checking for overfitting) is the same as for method 2, so I've ommitted the comments."
   ]
  },
  {
   "cell_type": "code",
   "execution_count": 9,
   "metadata": {},
   "outputs": [],
   "source": [
    "import numpy as np\n",
    "import matplotlib.pyplot as plt\n",
    "from sys import stdout\n",
    "\n",
    "def point_loss(Yij, Ui, Vj):\n",
    "    return (Yij-np.dot(Ui,Vj))\n",
    "\n",
    "def grad_U(Yij, Ui, Vj, reg):\n",
    "    return reg*Ui-point_loss(Yij,Ui,Vj)*Vj\n",
    "\n",
    "def grad_V(Yij, Ui, Vj, reg):\n",
    "    return reg*Vj-point_loss(Yij,Ui,Vj)*Ui\n",
    "\n",
    "def get_err(U, V, Y, reg=0.0):\n",
    "    n2 = lambda X: np.linalg.norm(X)**2.0\n",
    "    err = reg*(n2(U)+n2(V))\n",
    "    for (i, j, Yij) in Y:\n",
    "        err += point_loss(Yij, U[i-1,:], V[j-1,:])**2.0\n",
    "    return err/2.0/np.size(Y,0)\n",
    "\n",
    "def train_model(M, N, K, Y, Yval, eta, reg, eps=0.0001, max_epochs=300):\n",
    "    U = np.random.rand(M,K)-0.5\n",
    "    V = np.random.rand(N,K)-0.5\n",
    "    \n",
    "    last_loss = get_err(U, V, Y, reg)\n",
    "    e1diff = None\n",
    "    \n",
    "    eins = []\n",
    "    evals = []\n",
    "    eins.append(get_err(U, V, Y))\n",
    "    evals.append(get_err(U, V, Yval))\n",
    "    \n",
    "    for e in range(max_epochs):\n",
    "        for k in np.random.permutation(np.size(Y,0)):\n",
    "            i, j, Yij = Y[k,:]\n",
    "            i -= 1\n",
    "            j -= 1\n",
    "            U[i,:] -= eta*grad_U(Yij, U[i,:], V[j,:], reg)\n",
    "            V[j,:] -= eta*grad_V(Yij, U[i,:], V[j,:], reg)\n",
    "            \n",
    "        eins.append(get_err(U, V, Y))\n",
    "        evals.append(get_err(U, V, Yval))\n",
    "            \n",
    "        loss = get_err(U, V, Y, reg)\n",
    "        diff = np.abs(loss-last_loss)\n",
    "        if e == 0:\n",
    "            e1diff = diff\n",
    "        elif diff < eps*e1diff:\n",
    "            break\n",
    "        last_loss = loss\n",
    "        \n",
    "        stdout.write(f'\\r(reg={reg}, K={K}) Epoch {e+1} finished.')\n",
    "        \n",
    "    stdout.write('\\n')\n",
    "    return U, V, eins, evals"
   ]
  },
  {
   "cell_type": "code",
   "execution_count": 11,
   "metadata": {},
   "outputs": [
    {
     "name": "stdout",
     "output_type": "stream",
     "text": [
      "(reg=0.001, K=20) Epoch 32 finished.\n",
      "(reg=0.01, K=20) Epoch 23 finished.\n",
      "(reg=0.05, K=20) Epoch 22 finished.\n",
      "(reg=0.1, K=20) Epoch 19 finished.\n",
      "(reg=0.5, K=20) Epoch 9 finished.\n"
     ]
    },
    {
     "data": {
      "image/png": "[encoded data removed]",
      "text/plain": [
       "<Figure size 432x288 with 1 Axes>"
      ]
     },
     "metadata": {
      "needs_background": "light"
     },
     "output_type": "display_data"
    }
   ],
   "source": [
    "Y_train = np.loadtxt('./data/train.txt').astype(int)\n",
    "Y_test = np.loadtxt('./data/test.txt').astype(int)\n",
    "Y_all = np.loadtxt('./data/data.txt').astype(int)\n",
    "\n",
    "M = max(max(Y_train[:,0]), max(Y_test[:,0])).astype(int) # users\n",
    "N = max(max(Y_train[:,1]), max(Y_test[:,1])).astype(int) # movies\n",
    "K = 20\n",
    "eta = 0.03 # learning rate\n",
    "\n",
    "regs = [1e-3, 1e-2, 5e-2, 1e-1, 5e-1]\n",
    "\n",
    "E_ins = []\n",
    "E_outs = []\n",
    "\n",
    "# Use to compute Ein and Eout\n",
    "for reg in regs:\n",
    "    U, V, eins, evals = train_model(M, N, K, Y_train, Y_test, eta, reg)\n",
    "    E_ins.append(eins[-1])\n",
    "    E_outs.append(evals[-1])\n",
    "    \n",
    "fig = plt.figure()\n",
    "ax = fig.add_subplot(111)\n",
    "plt.plot(regs, E_ins, label='$E_{in}$')\n",
    "plt.plot(regs, E_outs, label='$E_{out}$')\n",
    "plt.title('Error vs Regularization Strength')\n",
    "plt.xlabel('$\\lambda$')\n",
    "plt.ylabel('Error')\n",
    "plt.legend()\n",
    "ax.set_xscale('log')"
   ]
  },
  {
   "cell_type": "code",
   "execution_count": 13,
   "metadata": {},
   "outputs": [
    {
     "name": "stdout",
     "output_type": "stream",
     "text": [
      "(reg=0.1, K=20) Epoch 21 finished.\n"
     ]
    },
    {
     "data": {
      "text/plain": [
       "<matplotlib.legend.Legend at 0x7f2082315450>"
      ]
     },
     "execution_count": 13,
     "metadata": {},
     "output_type": "execute_result"
    },
    {
     "data": {
      "image/png": "[encoded data removed]",
      "text/plain": [
       "<Figure size 432x288 with 1 Axes>"
      ]
     },
     "metadata": {
      "needs_background": "light"
     },
     "output_type": "display_data"
    }
   ],
   "source": [
    "U, V, eins, evals = train_model(M, N, K, Y_train, Y_test, eta, 0.1)\n",
    "T = len(eins)\n",
    "plt.figure()\n",
    "plt.plot(range(T), eins, label='$E_{in}$')\n",
    "plt.plot(range(T), evals, label='$E_{out}$')\n",
    "plt.title('Error vs Epoch')\n",
    "plt.xlabel('epoch')\n",
    "plt.ylabel('error')\n",
    "plt.legend()"
   ]
  },
  {
   "cell_type": "code",
   "execution_count": 14,
   "metadata": {},
   "outputs": [
    {
     "name": "stdout",
     "output_type": "stream",
     "text": [
      "(reg=0.1, K=20) Epoch 14 finished.\n"
     ]
    }
   ],
   "source": [
    "U, V, eins, evals = train_model(M, N, K, Y_all, Y_all, eta, 0.1)"
   ]
  },
  {
   "cell_type": "code",
   "execution_count": 16,
   "metadata": {},
   "outputs": [],
   "source": [
    "import pandas as pd\n",
    "\n",
    "\n",
    "movie_data = pd.read_csv('data/movies.txt', sep='\\t',\n",
    "                         names=['title', 'action', 'adventure', 'animation', 'childrens', 'comedy', 'crime', 'documentary',\n",
    "                                  'drama', 'fantasy', 'film_noir', 'horror', 'musical', 'mystery', 'romance', 'sci_fi', 'thriller',\n",
    "                                  'war', 'wester'])\n",
    "\n",
    "svdA, svdS, svdB = np.linalg.svd(V.transpose())\n",
    "U2 = svdA[:,:2].transpose() @ U.transpose()\n",
    "V2 = svdA[:,:2].transpose() @ V.transpose()\n",
    "\n",
    "vis_df = pd.DataFrame({\n",
    "    'id' : range(1, V2.shape[1]+1),\n",
    "    'x1' : V2[0,:],\n",
    "    'x2' : V2[1,:]\n",
    "})\n",
    "\n",
    "vis_df.to_csv('method1.csv', index=False)"
   ]
  }
 ],
 "metadata": {
  "kernelspec": {
   "display_name": "Python 3",
   "language": "python",
   "name": "python3"
  },
  "language_info": {
   "codemirror_mode": {
    "name": "ipython",
    "version": 3
   },
   "file_extension": ".py",
   "mimetype": "text/x-python",
   "name": "python",
   "nbconvert_exporter": "python",
   "pygments_lexer": "ipython3",
   "version": "3.7.6"
  }
 },
 "nbformat": 4,
 "nbformat_minor": 4
}
